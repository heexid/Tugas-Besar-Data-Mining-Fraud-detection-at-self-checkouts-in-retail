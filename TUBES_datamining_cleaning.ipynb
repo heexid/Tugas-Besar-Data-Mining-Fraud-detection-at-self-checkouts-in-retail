{
  "nbformat": 4,
  "nbformat_minor": 0,
  "metadata": {
    "colab": {
      "name": "TUBES_datamining_cleaning.ipynb",
      "provenance": []
    },
    "kernelspec": {
      "name": "python3",
      "display_name": "Python 3"
    },
    "language_info": {
      "name": "python"
    }
  },
  "cells": [
    {
      "cell_type": "markdown",
      "metadata": {
        "id": "z1T6bve6_44j"
      },
      "source": [
        "Luqman Haries\n",
        "\n",
        "1301180072\n",
        "\n",
        "DATAMINING IF-41-GAB01"
      ]
    },
    {
      "cell_type": "code",
      "metadata": {
        "id": "WZEDuzICUkAH"
      },
      "source": [
        "import numpy as np\n",
        "import pandas as pd\n",
        "import matplotlib.pyplot as plt\n",
        "import seaborn as sns"
      ],
      "execution_count": null,
      "outputs": []
    },
    {
      "cell_type": "code",
      "metadata": {
        "colab": {
          "base_uri": "https://localhost:8080/",
          "height": 435
        },
        "id": "kIG4Q3yYU0bA",
        "outputId": "5b4715e0-6ef3-406d-8874-c36c4e167ff6"
      },
      "source": [
        "#read datasets wiki\n",
        "df_train = pd.read_csv('https://raw.githubusercontent.com/heexid/Tugas-Besar-Data-Mining-Fraud-detection-at-self-checkouts-in-retail/main/Datasets/raw/DMC_2019_task/train.csv',sep='|', quotechar='\"',engine='python')\n",
        "\n",
        "#replace ? to Nan\n",
        "df_train.replace(\"?\", np.NaN, inplace = True)\n",
        "df_train[df_train.isna().any(axis = 1)]\n",
        "\n",
        "#result\n",
        "df_train"
      ],
      "execution_count": null,
      "outputs": [
        {
          "output_type": "execute_result",
          "data": {
            "text/html": [
              "<div>\n",
              "<style scoped>\n",
              "    .dataframe tbody tr th:only-of-type {\n",
              "        vertical-align: middle;\n",
              "    }\n",
              "\n",
              "    .dataframe tbody tr th {\n",
              "        vertical-align: top;\n",
              "    }\n",
              "\n",
              "    .dataframe thead th {\n",
              "        text-align: right;\n",
              "    }\n",
              "</style>\n",
              "<table border=\"1\" class=\"dataframe\">\n",
              "  <thead>\n",
              "    <tr style=\"text-align: right;\">\n",
              "      <th></th>\n",
              "      <th>trustLevel</th>\n",
              "      <th>totalScanTimeInSeconds</th>\n",
              "      <th>grandTotal</th>\n",
              "      <th>lineItemVoids</th>\n",
              "      <th>scansWithoutRegistration</th>\n",
              "      <th>quantityModifications</th>\n",
              "      <th>scannedLineItemsPerSecond</th>\n",
              "      <th>valuePerSecond</th>\n",
              "      <th>lineItemVoidsPerPosition</th>\n",
              "      <th>fraud</th>\n",
              "    </tr>\n",
              "  </thead>\n",
              "  <tbody>\n",
              "    <tr>\n",
              "      <th>0</th>\n",
              "      <td>5</td>\n",
              "      <td>1054</td>\n",
              "      <td>54.70</td>\n",
              "      <td>7</td>\n",
              "      <td>0</td>\n",
              "      <td>3</td>\n",
              "      <td>0.027514</td>\n",
              "      <td>0.051898</td>\n",
              "      <td>0.241379</td>\n",
              "      <td>0</td>\n",
              "    </tr>\n",
              "    <tr>\n",
              "      <th>1</th>\n",
              "      <td>3</td>\n",
              "      <td>108</td>\n",
              "      <td>27.36</td>\n",
              "      <td>5</td>\n",
              "      <td>2</td>\n",
              "      <td>4</td>\n",
              "      <td>0.129630</td>\n",
              "      <td>0.253333</td>\n",
              "      <td>0.357143</td>\n",
              "      <td>0</td>\n",
              "    </tr>\n",
              "    <tr>\n",
              "      <th>2</th>\n",
              "      <td>3</td>\n",
              "      <td>1516</td>\n",
              "      <td>62.16</td>\n",
              "      <td>3</td>\n",
              "      <td>10</td>\n",
              "      <td>5</td>\n",
              "      <td>0.008575</td>\n",
              "      <td>0.041003</td>\n",
              "      <td>0.230769</td>\n",
              "      <td>0</td>\n",
              "    </tr>\n",
              "    <tr>\n",
              "      <th>3</th>\n",
              "      <td>6</td>\n",
              "      <td>1791</td>\n",
              "      <td>92.31</td>\n",
              "      <td>8</td>\n",
              "      <td>4</td>\n",
              "      <td>4</td>\n",
              "      <td>0.016192</td>\n",
              "      <td>0.051541</td>\n",
              "      <td>0.275862</td>\n",
              "      <td>0</td>\n",
              "    </tr>\n",
              "    <tr>\n",
              "      <th>4</th>\n",
              "      <td>5</td>\n",
              "      <td>430</td>\n",
              "      <td>81.53</td>\n",
              "      <td>3</td>\n",
              "      <td>7</td>\n",
              "      <td>2</td>\n",
              "      <td>0.062791</td>\n",
              "      <td>0.189605</td>\n",
              "      <td>0.111111</td>\n",
              "      <td>0</td>\n",
              "    </tr>\n",
              "    <tr>\n",
              "      <th>...</th>\n",
              "      <td>...</td>\n",
              "      <td>...</td>\n",
              "      <td>...</td>\n",
              "      <td>...</td>\n",
              "      <td>...</td>\n",
              "      <td>...</td>\n",
              "      <td>...</td>\n",
              "      <td>...</td>\n",
              "      <td>...</td>\n",
              "      <td>...</td>\n",
              "    </tr>\n",
              "    <tr>\n",
              "      <th>1874</th>\n",
              "      <td>1</td>\n",
              "      <td>321</td>\n",
              "      <td>76.03</td>\n",
              "      <td>8</td>\n",
              "      <td>7</td>\n",
              "      <td>2</td>\n",
              "      <td>0.071651</td>\n",
              "      <td>0.236854</td>\n",
              "      <td>0.347826</td>\n",
              "      <td>0</td>\n",
              "    </tr>\n",
              "    <tr>\n",
              "      <th>1875</th>\n",
              "      <td>1</td>\n",
              "      <td>397</td>\n",
              "      <td>41.89</td>\n",
              "      <td>5</td>\n",
              "      <td>5</td>\n",
              "      <td>0</td>\n",
              "      <td>0.065491</td>\n",
              "      <td>0.105516</td>\n",
              "      <td>0.192308</td>\n",
              "      <td>1</td>\n",
              "    </tr>\n",
              "    <tr>\n",
              "      <th>1876</th>\n",
              "      <td>4</td>\n",
              "      <td>316</td>\n",
              "      <td>41.83</td>\n",
              "      <td>5</td>\n",
              "      <td>8</td>\n",
              "      <td>1</td>\n",
              "      <td>0.094937</td>\n",
              "      <td>0.132373</td>\n",
              "      <td>0.166667</td>\n",
              "      <td>0</td>\n",
              "    </tr>\n",
              "    <tr>\n",
              "      <th>1877</th>\n",
              "      <td>2</td>\n",
              "      <td>685</td>\n",
              "      <td>62.68</td>\n",
              "      <td>1</td>\n",
              "      <td>6</td>\n",
              "      <td>2</td>\n",
              "      <td>0.035036</td>\n",
              "      <td>0.091504</td>\n",
              "      <td>0.041667</td>\n",
              "      <td>0</td>\n",
              "    </tr>\n",
              "    <tr>\n",
              "      <th>1878</th>\n",
              "      <td>4</td>\n",
              "      <td>1140</td>\n",
              "      <td>38.03</td>\n",
              "      <td>2</td>\n",
              "      <td>2</td>\n",
              "      <td>3</td>\n",
              "      <td>0.016667</td>\n",
              "      <td>0.033360</td>\n",
              "      <td>0.105263</td>\n",
              "      <td>0</td>\n",
              "    </tr>\n",
              "  </tbody>\n",
              "</table>\n",
              "<p>1879 rows × 10 columns</p>\n",
              "</div>"
            ],
            "text/plain": [
              "      trustLevel  totalScanTimeInSeconds  ...  lineItemVoidsPerPosition  fraud\n",
              "0              5                    1054  ...                  0.241379      0\n",
              "1              3                     108  ...                  0.357143      0\n",
              "2              3                    1516  ...                  0.230769      0\n",
              "3              6                    1791  ...                  0.275862      0\n",
              "4              5                     430  ...                  0.111111      0\n",
              "...          ...                     ...  ...                       ...    ...\n",
              "1874           1                     321  ...                  0.347826      0\n",
              "1875           1                     397  ...                  0.192308      1\n",
              "1876           4                     316  ...                  0.166667      0\n",
              "1877           2                     685  ...                  0.041667      0\n",
              "1878           4                    1140  ...                  0.105263      0\n",
              "\n",
              "[1879 rows x 10 columns]"
            ]
          },
          "metadata": {
            "tags": []
          },
          "execution_count": 2
        }
      ]
    },
    {
      "cell_type": "code",
      "metadata": {
        "colab": {
          "base_uri": "https://localhost:8080/",
          "height": 435
        },
        "id": "ke_UDhvrVOBA",
        "outputId": "a6b2102a-e5c1-45b6-ff80-5d27fa8fd42a"
      },
      "source": [
        "#read datasets wiki\n",
        "df_test = pd.read_csv('https://raw.githubusercontent.com/heexid/Tugas-Besar-Data-Mining-Fraud-detection-at-self-checkouts-in-retail/main/Datasets/raw/DMC_2019_task/test.csv',sep='|', quotechar='\"',engine='python')\n",
        "df_test_class = pd.read_csv('https://raw.githubusercontent.com/heexid/Tugas-Besar-Data-Mining-Fraud-detection-at-self-checkouts-in-retail/main/Datasets/raw/DMC-2019-realclass.csv',sep='|', quotechar='\"',engine='python')\n",
        "\n",
        "#replace ? to Nan\n",
        "df_test.replace(\"?\", np.NaN, inplace = True)\n",
        "df_test[df_test.isna().any(axis = 1)]\n",
        "\n",
        "#merge df_test_class and df_test\n",
        "df_test['fraud'] = df_test_class.values\n",
        "df_test\n"
      ],
      "execution_count": null,
      "outputs": [
        {
          "output_type": "execute_result",
          "data": {
            "text/html": [
              "<div>\n",
              "<style scoped>\n",
              "    .dataframe tbody tr th:only-of-type {\n",
              "        vertical-align: middle;\n",
              "    }\n",
              "\n",
              "    .dataframe tbody tr th {\n",
              "        vertical-align: top;\n",
              "    }\n",
              "\n",
              "    .dataframe thead th {\n",
              "        text-align: right;\n",
              "    }\n",
              "</style>\n",
              "<table border=\"1\" class=\"dataframe\">\n",
              "  <thead>\n",
              "    <tr style=\"text-align: right;\">\n",
              "      <th></th>\n",
              "      <th>trustLevel</th>\n",
              "      <th>totalScanTimeInSeconds</th>\n",
              "      <th>grandTotal</th>\n",
              "      <th>lineItemVoids</th>\n",
              "      <th>scansWithoutRegistration</th>\n",
              "      <th>quantityModifications</th>\n",
              "      <th>scannedLineItemsPerSecond</th>\n",
              "      <th>valuePerSecond</th>\n",
              "      <th>lineItemVoidsPerPosition</th>\n",
              "      <th>fraud</th>\n",
              "    </tr>\n",
              "  </thead>\n",
              "  <tbody>\n",
              "    <tr>\n",
              "      <th>0</th>\n",
              "      <td>4</td>\n",
              "      <td>467</td>\n",
              "      <td>88.48</td>\n",
              "      <td>4</td>\n",
              "      <td>8</td>\n",
              "      <td>4</td>\n",
              "      <td>0.014989</td>\n",
              "      <td>0.189465</td>\n",
              "      <td>0.571429</td>\n",
              "      <td>0</td>\n",
              "    </tr>\n",
              "    <tr>\n",
              "      <th>1</th>\n",
              "      <td>3</td>\n",
              "      <td>1004</td>\n",
              "      <td>58.99</td>\n",
              "      <td>7</td>\n",
              "      <td>6</td>\n",
              "      <td>1</td>\n",
              "      <td>0.026892</td>\n",
              "      <td>0.058755</td>\n",
              "      <td>0.259259</td>\n",
              "      <td>0</td>\n",
              "    </tr>\n",
              "    <tr>\n",
              "      <th>2</th>\n",
              "      <td>1</td>\n",
              "      <td>162</td>\n",
              "      <td>14.00</td>\n",
              "      <td>4</td>\n",
              "      <td>5</td>\n",
              "      <td>4</td>\n",
              "      <td>0.006173</td>\n",
              "      <td>0.086420</td>\n",
              "      <td>4.000000</td>\n",
              "      <td>0</td>\n",
              "    </tr>\n",
              "    <tr>\n",
              "      <th>3</th>\n",
              "      <td>5</td>\n",
              "      <td>532</td>\n",
              "      <td>84.79</td>\n",
              "      <td>9</td>\n",
              "      <td>3</td>\n",
              "      <td>4</td>\n",
              "      <td>0.026316</td>\n",
              "      <td>0.159380</td>\n",
              "      <td>0.642857</td>\n",
              "      <td>0</td>\n",
              "    </tr>\n",
              "    <tr>\n",
              "      <th>4</th>\n",
              "      <td>5</td>\n",
              "      <td>890</td>\n",
              "      <td>42.16</td>\n",
              "      <td>4</td>\n",
              "      <td>0</td>\n",
              "      <td>0</td>\n",
              "      <td>0.021348</td>\n",
              "      <td>0.047371</td>\n",
              "      <td>0.210526</td>\n",
              "      <td>0</td>\n",
              "    </tr>\n",
              "    <tr>\n",
              "      <th>...</th>\n",
              "      <td>...</td>\n",
              "      <td>...</td>\n",
              "      <td>...</td>\n",
              "      <td>...</td>\n",
              "      <td>...</td>\n",
              "      <td>...</td>\n",
              "      <td>...</td>\n",
              "      <td>...</td>\n",
              "      <td>...</td>\n",
              "      <td>...</td>\n",
              "    </tr>\n",
              "    <tr>\n",
              "      <th>498116</th>\n",
              "      <td>4</td>\n",
              "      <td>783</td>\n",
              "      <td>59.10</td>\n",
              "      <td>2</td>\n",
              "      <td>2</td>\n",
              "      <td>0</td>\n",
              "      <td>0.012771</td>\n",
              "      <td>0.075479</td>\n",
              "      <td>0.200000</td>\n",
              "      <td>0</td>\n",
              "    </tr>\n",
              "    <tr>\n",
              "      <th>498117</th>\n",
              "      <td>1</td>\n",
              "      <td>278</td>\n",
              "      <td>98.90</td>\n",
              "      <td>9</td>\n",
              "      <td>5</td>\n",
              "      <td>4</td>\n",
              "      <td>0.050360</td>\n",
              "      <td>0.355755</td>\n",
              "      <td>0.642857</td>\n",
              "      <td>0</td>\n",
              "    </tr>\n",
              "    <tr>\n",
              "      <th>498118</th>\n",
              "      <td>3</td>\n",
              "      <td>300</td>\n",
              "      <td>5.41</td>\n",
              "      <td>6</td>\n",
              "      <td>6</td>\n",
              "      <td>4</td>\n",
              "      <td>0.030000</td>\n",
              "      <td>0.018033</td>\n",
              "      <td>0.666667</td>\n",
              "      <td>0</td>\n",
              "    </tr>\n",
              "    <tr>\n",
              "      <th>498119</th>\n",
              "      <td>2</td>\n",
              "      <td>1524</td>\n",
              "      <td>33.97</td>\n",
              "      <td>2</td>\n",
              "      <td>5</td>\n",
              "      <td>3</td>\n",
              "      <td>0.005906</td>\n",
              "      <td>0.022290</td>\n",
              "      <td>0.222222</td>\n",
              "      <td>0</td>\n",
              "    </tr>\n",
              "    <tr>\n",
              "      <th>498120</th>\n",
              "      <td>3</td>\n",
              "      <td>1456</td>\n",
              "      <td>56.97</td>\n",
              "      <td>11</td>\n",
              "      <td>7</td>\n",
              "      <td>2</td>\n",
              "      <td>0.019231</td>\n",
              "      <td>0.039128</td>\n",
              "      <td>0.392857</td>\n",
              "      <td>0</td>\n",
              "    </tr>\n",
              "  </tbody>\n",
              "</table>\n",
              "<p>498121 rows × 10 columns</p>\n",
              "</div>"
            ],
            "text/plain": [
              "        trustLevel  totalScanTimeInSeconds  ...  lineItemVoidsPerPosition  fraud\n",
              "0                4                     467  ...                  0.571429      0\n",
              "1                3                    1004  ...                  0.259259      0\n",
              "2                1                     162  ...                  4.000000      0\n",
              "3                5                     532  ...                  0.642857      0\n",
              "4                5                     890  ...                  0.210526      0\n",
              "...            ...                     ...  ...                       ...    ...\n",
              "498116           4                     783  ...                  0.200000      0\n",
              "498117           1                     278  ...                  0.642857      0\n",
              "498118           3                     300  ...                  0.666667      0\n",
              "498119           2                    1524  ...                  0.222222      0\n",
              "498120           3                    1456  ...                  0.392857      0\n",
              "\n",
              "[498121 rows x 10 columns]"
            ]
          },
          "metadata": {
            "tags": []
          },
          "execution_count": 3
        }
      ]
    },
    {
      "cell_type": "code",
      "metadata": {
        "id": "FVEdSiigVmA5",
        "colab": {
          "base_uri": "https://localhost:8080/",
          "height": 35
        },
        "outputId": "55af1f17-cf84-4a60-f282-546dca550340"
      },
      "source": [
        "#save\n",
        "'''\n",
        "df_train.to_csv (r'/df_train.csv', index = False, header=True)\n",
        "df_test.to_csv (r'/df_test.csv', index = False, header=True)\n",
        "'''"
      ],
      "execution_count": null,
      "outputs": [
        {
          "output_type": "execute_result",
          "data": {
            "application/vnd.google.colaboratory.intrinsic+json": {
              "type": "string"
            },
            "text/plain": [
              "\"\\ndf_train.to_csv (r'/df_train.csv', index = False, header=True)\\ndf_test.to_csv (r'/df_test.csv', index = False, header=True)\\n\""
            ]
          },
          "metadata": {
            "tags": []
          },
          "execution_count": 4
        }
      ]
    },
    {
      "cell_type": "markdown",
      "metadata": {
        "id": "9LneUyOw7d6S"
      },
      "source": [
        "#PREPROSES"
      ]
    },
    {
      "cell_type": "code",
      "metadata": {
        "colab": {
          "base_uri": "https://localhost:8080/"
        },
        "id": "cJbixICZ7fcF",
        "outputId": "29c8a656-f011-4708-f1da-efed52ddf8c4"
      },
      "source": [
        "#missing value checker\n",
        "df_train.isna().sum()"
      ],
      "execution_count": null,
      "outputs": [
        {
          "output_type": "execute_result",
          "data": {
            "text/plain": [
              "trustLevel                   0\n",
              "totalScanTimeInSeconds       0\n",
              "grandTotal                   0\n",
              "lineItemVoids                0\n",
              "scansWithoutRegistration     0\n",
              "quantityModifications        0\n",
              "scannedLineItemsPerSecond    0\n",
              "valuePerSecond               0\n",
              "lineItemVoidsPerPosition     0\n",
              "fraud                        0\n",
              "dtype: int64"
            ]
          },
          "metadata": {
            "tags": []
          },
          "execution_count": 5
        }
      ]
    },
    {
      "cell_type": "code",
      "metadata": {
        "colab": {
          "base_uri": "https://localhost:8080/",
          "height": 314
        },
        "id": "M8OVFFJH7g64",
        "outputId": "3e4dd499-2432-44c4-8fda-7ea04abd3c5e"
      },
      "source": [
        "#Noise Checker\n",
        "df_train.describe()"
      ],
      "execution_count": null,
      "outputs": [
        {
          "output_type": "execute_result",
          "data": {
            "text/html": [
              "<div>\n",
              "<style scoped>\n",
              "    .dataframe tbody tr th:only-of-type {\n",
              "        vertical-align: middle;\n",
              "    }\n",
              "\n",
              "    .dataframe tbody tr th {\n",
              "        vertical-align: top;\n",
              "    }\n",
              "\n",
              "    .dataframe thead th {\n",
              "        text-align: right;\n",
              "    }\n",
              "</style>\n",
              "<table border=\"1\" class=\"dataframe\">\n",
              "  <thead>\n",
              "    <tr style=\"text-align: right;\">\n",
              "      <th></th>\n",
              "      <th>trustLevel</th>\n",
              "      <th>totalScanTimeInSeconds</th>\n",
              "      <th>grandTotal</th>\n",
              "      <th>lineItemVoids</th>\n",
              "      <th>scansWithoutRegistration</th>\n",
              "      <th>quantityModifications</th>\n",
              "      <th>scannedLineItemsPerSecond</th>\n",
              "      <th>valuePerSecond</th>\n",
              "      <th>lineItemVoidsPerPosition</th>\n",
              "      <th>fraud</th>\n",
              "    </tr>\n",
              "  </thead>\n",
              "  <tbody>\n",
              "    <tr>\n",
              "      <th>count</th>\n",
              "      <td>1879.000000</td>\n",
              "      <td>1879.000000</td>\n",
              "      <td>1879.000000</td>\n",
              "      <td>1879.000000</td>\n",
              "      <td>1879.000000</td>\n",
              "      <td>1879.000000</td>\n",
              "      <td>1879.000000</td>\n",
              "      <td>1879.000000</td>\n",
              "      <td>1879.000000</td>\n",
              "      <td>1879.000000</td>\n",
              "    </tr>\n",
              "    <tr>\n",
              "      <th>mean</th>\n",
              "      <td>3.401809</td>\n",
              "      <td>932.153273</td>\n",
              "      <td>50.864492</td>\n",
              "      <td>5.469931</td>\n",
              "      <td>4.904204</td>\n",
              "      <td>2.525279</td>\n",
              "      <td>0.058138</td>\n",
              "      <td>0.201746</td>\n",
              "      <td>0.745404</td>\n",
              "      <td>0.055349</td>\n",
              "    </tr>\n",
              "    <tr>\n",
              "      <th>std</th>\n",
              "      <td>1.709404</td>\n",
              "      <td>530.144640</td>\n",
              "      <td>28.940202</td>\n",
              "      <td>3.451169</td>\n",
              "      <td>3.139697</td>\n",
              "      <td>1.695472</td>\n",
              "      <td>0.278512</td>\n",
              "      <td>1.242135</td>\n",
              "      <td>1.327241</td>\n",
              "      <td>0.228720</td>\n",
              "    </tr>\n",
              "    <tr>\n",
              "      <th>min</th>\n",
              "      <td>1.000000</td>\n",
              "      <td>2.000000</td>\n",
              "      <td>0.010000</td>\n",
              "      <td>0.000000</td>\n",
              "      <td>0.000000</td>\n",
              "      <td>0.000000</td>\n",
              "      <td>0.000548</td>\n",
              "      <td>0.000007</td>\n",
              "      <td>0.000000</td>\n",
              "      <td>0.000000</td>\n",
              "    </tr>\n",
              "    <tr>\n",
              "      <th>25%</th>\n",
              "      <td>2.000000</td>\n",
              "      <td>474.500000</td>\n",
              "      <td>25.965000</td>\n",
              "      <td>2.000000</td>\n",
              "      <td>2.000000</td>\n",
              "      <td>1.000000</td>\n",
              "      <td>0.008384</td>\n",
              "      <td>0.027787</td>\n",
              "      <td>0.160000</td>\n",
              "      <td>0.000000</td>\n",
              "    </tr>\n",
              "    <tr>\n",
              "      <th>50%</th>\n",
              "      <td>3.000000</td>\n",
              "      <td>932.000000</td>\n",
              "      <td>51.210000</td>\n",
              "      <td>5.000000</td>\n",
              "      <td>5.000000</td>\n",
              "      <td>3.000000</td>\n",
              "      <td>0.016317</td>\n",
              "      <td>0.054498</td>\n",
              "      <td>0.350000</td>\n",
              "      <td>0.000000</td>\n",
              "    </tr>\n",
              "    <tr>\n",
              "      <th>75%</th>\n",
              "      <td>5.000000</td>\n",
              "      <td>1397.000000</td>\n",
              "      <td>77.285000</td>\n",
              "      <td>8.000000</td>\n",
              "      <td>8.000000</td>\n",
              "      <td>4.000000</td>\n",
              "      <td>0.032594</td>\n",
              "      <td>0.107313</td>\n",
              "      <td>0.666667</td>\n",
              "      <td>0.000000</td>\n",
              "    </tr>\n",
              "    <tr>\n",
              "      <th>max</th>\n",
              "      <td>6.000000</td>\n",
              "      <td>1831.000000</td>\n",
              "      <td>99.960000</td>\n",
              "      <td>11.000000</td>\n",
              "      <td>10.000000</td>\n",
              "      <td>5.000000</td>\n",
              "      <td>6.666667</td>\n",
              "      <td>37.870000</td>\n",
              "      <td>11.000000</td>\n",
              "      <td>1.000000</td>\n",
              "    </tr>\n",
              "  </tbody>\n",
              "</table>\n",
              "</div>"
            ],
            "text/plain": [
              "        trustLevel  ...        fraud\n",
              "count  1879.000000  ...  1879.000000\n",
              "mean      3.401809  ...     0.055349\n",
              "std       1.709404  ...     0.228720\n",
              "min       1.000000  ...     0.000000\n",
              "25%       2.000000  ...     0.000000\n",
              "50%       3.000000  ...     0.000000\n",
              "75%       5.000000  ...     0.000000\n",
              "max       6.000000  ...     1.000000\n",
              "\n",
              "[8 rows x 10 columns]"
            ]
          },
          "metadata": {
            "tags": []
          },
          "execution_count": 6
        }
      ]
    },
    {
      "cell_type": "code",
      "metadata": {
        "colab": {
          "base_uri": "https://localhost:8080/"
        },
        "id": "k7ZiTSLS7k-5",
        "outputId": "46cdc148-a92b-44ee-ba9e-19f9155e4775"
      },
      "source": [
        "#Duplicate Checker\n",
        "df_train.duplicated().sum()"
      ],
      "execution_count": null,
      "outputs": [
        {
          "output_type": "execute_result",
          "data": {
            "text/plain": [
              "0"
            ]
          },
          "metadata": {
            "tags": []
          },
          "execution_count": 7
        }
      ]
    },
    {
      "cell_type": "code",
      "metadata": {
        "colab": {
          "base_uri": "https://localhost:8080/",
          "height": 729
        },
        "id": "qS2OZk3a93XS",
        "outputId": "59773c07-6d4b-4e33-94c0-0cdf2b966f78"
      },
      "source": [
        "#Atribut Selection with heatmap correlation\n",
        "plt.figure(figsize=(10,10))\n",
        "cor = df_train.corr()\n",
        "sns.heatmap(cor, annot=True, cmap=plt.cm.Reds)\n",
        "plt.show()\n",
        "\n",
        "#Correlation with output variable\n",
        "cor_target = abs(cor[\"fraud\"])"
      ],
      "execution_count": null,
      "outputs": [
        {
          "output_type": "display_data",
          "data": {
            "image/png": "[encoded data removed]",
            "text/plain": [
              "<Figure size 720x720 with 2 Axes>"
            ]
          },
          "metadata": {
            "tags": [],
            "needs_background": "light"
          }
        }
      ]
    },
    {
      "cell_type": "markdown",
      "metadata": {
        "id": "VwwdPSOF7Fw1"
      },
      "source": [
        "#CREATE MODEL"
      ]
    },
    {
      "cell_type": "code",
      "metadata": {
        "id": "585VPyRWa8Xf"
      },
      "source": [
        "#getting all feateru \n",
        "#feature_names = df_train.columns.difference(['fraud'])"
      ],
      "execution_count": null,
      "outputs": []
    },
    {
      "cell_type": "code",
      "metadata": {
        "id": "jaxiMTGG0vJn"
      },
      "source": [
        "#getting feature importance from corr to classification to X and label to Y \n",
        "feature_names = ['trustLevel','totalScanTimeInSeconds','scansWithoutRegistration','lineItemVoidsPerPosition']"
      ],
      "execution_count": null,
      "outputs": []
    },
    {
      "cell_type": "code",
      "metadata": {
        "id": "UYG8lPiW1HbK"
      },
      "source": [
        "#getting train and test to variable\n",
        "X_train = df_train[feature_names]\n",
        "y_train = df_train['fraud']\n",
        "\n",
        "X_test = df_test[feature_names]\n",
        "y_test = df_test['fraud']"
      ],
      "execution_count": null,
      "outputs": []
    },
    {
      "cell_type": "code",
      "metadata": {
        "id": "YEoiUvEX1Ty1"
      },
      "source": [
        "#Apply scalling\n",
        "from sklearn.preprocessing import MinMaxScaler\n",
        "scaler = MinMaxScaler()\n",
        "X_train = scaler.fit_transform(X_train)\n",
        "X_test = scaler.transform(X_test)"
      ],
      "execution_count": null,
      "outputs": []
    },
    {
      "cell_type": "markdown",
      "metadata": {
        "id": "As6xLkMX1-Hp"
      },
      "source": [
        "#KNN"
      ]
    },
    {
      "cell_type": "code",
      "metadata": {
        "colab": {
          "base_uri": "https://localhost:8080/",
          "height": 70
        },
        "id": "CTkN5QCc1Xdh",
        "outputId": "e1b278bf-78b5-47d3-d011-8f4aabe6075a"
      },
      "source": [
        "#knn k = 5\n",
        "from sklearn.neighbors import KNeighborsClassifier\n",
        "from sklearn.metrics import accuracy_score\n",
        "\n",
        "knn = KNeighborsClassifier(weights = 'distance', n_neighbors = 5, metric='euclidean')\n",
        "knn.fit(X_train, y_train)\n",
        "print('Accuracy of K-NN classifier on training set: {:.3f} % '\n",
        "     .format(knn.score(X_train, y_train) * 100))\n",
        "print('Accuracy of K-NN classifier on test set: {:.3f} %'\n",
        "     .format(knn.score(X_test, y_test) * 100))\n",
        "\n",
        "'''\n",
        "yhat = knn.predict(X_test)\n",
        "# evaluate predictions\n",
        "accuracy = accuracy_score(y_test, yhat)\n",
        "print('Accuracy: %.3f' % (accuracy * 100))\n",
        "'''"
      ],
      "execution_count": null,
      "outputs": [
        {
          "output_type": "stream",
          "text": [
            "Accuracy of K-NN classifier on training set: 100.000 % \n",
            "Accuracy of K-NN classifier on test set: 94.013 %\n"
          ],
          "name": "stdout"
        },
        {
          "output_type": "execute_result",
          "data": {
            "application/vnd.google.colaboratory.intrinsic+json": {
              "type": "string"
            },
            "text/plain": [
              "\"\\nyhat = knn.predict(X_test)\\n# evaluate predictions\\naccuracy = accuracy_score(y_test, yhat)\\nprint('Accuracy: %.3f' % (accuracy * 100))\\n\""
            ]
          },
          "metadata": {
            "tags": []
          },
          "execution_count": 13
        }
      ]
    },
    {
      "cell_type": "code",
      "metadata": {
        "colab": {
          "base_uri": "https://localhost:8080/",
          "height": 279
        },
        "id": "gkgUJ9-p2UW5",
        "outputId": "eb0bcb33-1310-4b43-c63b-e2777196b289"
      },
      "source": [
        "def explore():\n",
        "  #explorasi knn k= [1..20]\n",
        "  k_range = range(1, 20)\n",
        "  scores = []\n",
        "\n",
        "  for k in k_range:\n",
        "      knn = KNeighborsClassifier(weights = 'distance', n_neighbors = k, metric='euclidean')\n",
        "      knn.fit(X_train, y_train)\n",
        "      scores.append(knn.score(X_test, y_test))\n",
        "  plt.figure()\n",
        "  plt.xlabel('k')\n",
        "  plt.ylabel('accuracy')\n",
        "  plt.scatter(k_range, scores)\n",
        "  plt.xticks([0,5,10,15,20])\n",
        "\n",
        "explore()"
      ],
      "execution_count": null,
      "outputs": [
        {
          "output_type": "display_data",
          "data": {
            "image/png": "[encoded data removed]",
            "text/plain": [
              "<Figure size 432x288 with 1 Axes>"
            ]
          },
          "metadata": {
            "tags": [],
            "needs_background": "light"
          }
        }
      ]
    },
    {
      "cell_type": "markdown",
      "metadata": {
        "id": "OBM4UYwV1_WY"
      },
      "source": [
        "#NAIVE BAYES"
      ]
    },
    {
      "cell_type": "code",
      "metadata": {
        "colab": {
          "base_uri": "https://localhost:8080/",
          "height": 70
        },
        "id": "RkNKWLwU2ERI",
        "outputId": "08006581-07d0-4c60-d26e-d4aa5d4b8f1b"
      },
      "source": [
        "from sklearn.naive_bayes import GaussianNB\n",
        "\n",
        "gnb = GaussianNB()\n",
        "gnb.fit(X_train, y_train)\n",
        "print('Accuracy of GNB classifier on training set: {:.3f} %'\n",
        "     .format(gnb.score(X_train, y_train) * 100))\n",
        "print('Accuracy of GNB classifier on test set: {:.3f} %'\n",
        "     .format(gnb.score(X_test, y_test) * 100))\n",
        "\n",
        "'''\n",
        "yhat = gnb.predict(X_test)\n",
        "# evaluate predictions\n",
        "accuracy = accuracy_score(y_test, yhat)\n",
        "print('Accuracy: %.3f' % (accuracy * 100))\n",
        "'''"
      ],
      "execution_count": null,
      "outputs": [
        {
          "output_type": "stream",
          "text": [
            "Accuracy of GNB classifier on training set: 92.869 %\n",
            "Accuracy of GNB classifier on test set: 92.104 %\n"
          ],
          "name": "stdout"
        },
        {
          "output_type": "execute_result",
          "data": {
            "application/vnd.google.colaboratory.intrinsic+json": {
              "type": "string"
            },
            "text/plain": [
              "\"\\nyhat = gnb.predict(X_test)\\n# evaluate predictions\\naccuracy = accuracy_score(y_test, yhat)\\nprint('Accuracy: %.3f' % (accuracy * 100))\\n\""
            ]
          },
          "metadata": {
            "tags": []
          },
          "execution_count": 15
        }
      ]
    },
    {
      "cell_type": "markdown",
      "metadata": {
        "id": "cTYflQZv4a0y"
      },
      "source": [
        "#DECISION TREE"
      ]
    },
    {
      "cell_type": "code",
      "metadata": {
        "colab": {
          "base_uri": "https://localhost:8080/",
          "height": 70
        },
        "id": "6lVZmDUu4cSh",
        "outputId": "d81aca38-42d5-4ed2-9ec3-568606779f45"
      },
      "source": [
        "from sklearn.tree import DecisionTreeClassifier\n",
        "\n",
        "clf2 = DecisionTreeClassifier(max_depth=3).fit(X_train, y_train)\n",
        "print('Accuracy of Decision Tree classifier on training set: {:.3f} %'\n",
        "     .format(clf2.score(X_train, y_train) * 100))\n",
        "print('Accuracy of Decision Tree classifier on test set: {:.3f} %'\n",
        "     .format(clf2.score(X_test, y_test) * 100))\n",
        "\n",
        "'''\n",
        "yhat = clf2.predict(X_test)\n",
        "# evaluate predictions\n",
        "accuracy = accuracy_score(y_test, yhat)\n",
        "print('Accuracy: %.3f' % (accuracy * 100))\n",
        "'''\n"
      ],
      "execution_count": null,
      "outputs": [
        {
          "output_type": "stream",
          "text": [
            "Accuracy of Decision Tree classifier on training set: 94.944 %\n",
            "Accuracy of Decision Tree classifier on test set: 94.391 %\n"
          ],
          "name": "stdout"
        },
        {
          "output_type": "execute_result",
          "data": {
            "application/vnd.google.colaboratory.intrinsic+json": {
              "type": "string"
            },
            "text/plain": [
              "\"\\nyhat = clf2.predict(X_test)\\n# evaluate predictions\\naccuracy = accuracy_score(y_test, yhat)\\nprint('Accuracy: %.3f' % (accuracy * 100))\\n\""
            ]
          },
          "metadata": {
            "tags": []
          },
          "execution_count": 16
        }
      ]
    },
    {
      "cell_type": "code",
      "metadata": {
        "colab": {
          "base_uri": "https://localhost:8080/"
        },
        "id": "uOu-50M9GFy3",
        "outputId": "99433565-7cff-4b22-cd4a-eb419d23df7f"
      },
      "source": [
        "# F1 score\n",
        "from sklearn.metrics import f1_score as f1\n",
        "\n",
        "#knn\n",
        "print(\"F1-SCORE KNN\",f1(y_test,knn.predict(X_test),average='micro'))\n",
        "\n",
        "#gausian\n",
        "print(\"F1-SCORE GNB\",f1(y_test,gnb.predict(X_test),average='micro'))\n",
        "\n",
        "#decisiontree\n",
        "print(\"F1-SCORE decision tree\",f1(y_test,clf2.predict(X_test),average='micro'))\n"
      ],
      "execution_count": null,
      "outputs": [
        {
          "output_type": "stream",
          "text": [
            "F1-SCORE KNN 0.9401269972556868\n",
            "F1-SCORE GNB 0.9210392655599744\n",
            "F1-SCORE decision tree 0.9439051957255365\n"
          ],
          "name": "stdout"
        }
      ]
    },
    {
      "cell_type": "markdown",
      "metadata": {
        "id": "J3B9Hh5o7jlg"
      },
      "source": [
        "#REFERENCE\n",
        "https://github.com/kozodoi/DMC_2019/blob/master/var_importance.pdf\n",
        "\n",
        "https://www.geeksforgeeks.org/attribute-subset-selection-in-data-mining/"
      ]
    }
  ]
}